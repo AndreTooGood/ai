{
 "cells": [
  {
   "cell_type": "code",
   "execution_count": 1,
   "id": "00c9461f-f4da-43f7-ba88-dbfe3cb74411",
   "metadata": {},
   "outputs": [
    {
     "name": "stdout",
     "output_type": "stream",
     "text": [
      "Found solution with cost 3\n",
      "\n",
      "Start State:\n",
      "[1, 2, 3]\n",
      "[0, 4, 6]\n",
      "[7, 5, 8]\n",
      "\n",
      "Step 1:\n",
      "[1, 2, 3]\n",
      "[4, 0, 6]\n",
      "[7, 5, 8]\n",
      "\n",
      "Step 2:\n",
      "[1, 2, 3]\n",
      "[4, 5, 6]\n",
      "[7, 0, 8]\n",
      "\n",
      "Step 3:\n",
      "[1, 2, 3]\n",
      "[4, 5, 6]\n",
      "[7, 8, 0]\n"
     ]
    }
   ],
   "source": [
    "import heapq\n",
    "\n",
    "def manhattan_distance(p, g):\n",
    "    return sum(abs(i // 3 - p.index(g[i]) // 3) + abs(i % 3 - p.index(g[i]) % 3) for i in range(9) if p[i] != 0)\n",
    "\n",
    "def is_solvable(p, g):\n",
    "    return sum(sum(p[i] > p[j] for j in range(i + 1, len(p)) if p[j] != 0) for i in range(len(p) - 1)) % 2 == 0\n",
    "\n",
    "def solve_puzzle(p, g):\n",
    "    if not is_solvable(p, g):\n",
    "        return [], []\n",
    "\n",
    "    h, v = [], set()\n",
    "    heapq.heappush(h, (0, p, []))\n",
    "\n",
    "    while h:\n",
    "        c, c_p, pth = heapq.heappop(h)\n",
    "        if c_p == g:\n",
    "            return len(pth), pth\n",
    "\n",
    "        z = c_p.index(0)\n",
    "        x, y = z // 3, z % 3\n",
    "\n",
    "        for dx, dy in ((1, 0), (-1, 0), (0, 1), (0, -1)):\n",
    "            x2, y2 = x + dx, y + dy\n",
    "            if 0 <= x2 < 3 and 0 <= y2 < 3:\n",
    "                n_p = list(c_p)\n",
    "                nz = x2 * 3 + y2\n",
    "                n_p[z], n_p[nz] = n_p[nz], n_p[z]\n",
    "                n_pth = pth + [(x, y, x2, y2)]\n",
    "                n_c = c + 1\n",
    "                if tuple(n_p) not in v:\n",
    "                    v.add(tuple(n_p))\n",
    "                    heapq.heappush(h, (n_c, n_p, n_pth))\n",
    "    return [], []\n",
    "\n",
    "if __name__ == '__main__':\n",
    "    p, g = [1, 2, 3, 0, 4, 6, 7, 5, 8], [1, 2, 3, 4, 5, 6, 7, 8, 0]\n",
    "    c, pth = solve_puzzle(p, g)\n",
    "    if c:\n",
    "        print('Found solution with cost', c)\n",
    "        print('\\nStart State:')\n",
    "        for i in range(3):\n",
    "            print(p[i * 3:i * 3 + 3])\n",
    "        for s, m in enumerate(pth, start=1):\n",
    "            x1, y1, x2, y2 = m\n",
    "            p[x1 * 3 + y1], p[x2 * 3 + y2] = p[x2 * 3 + y2], p[x1 * 3 + y1]\n",
    "            print(f'\\nStep {s}:')\n",
    "            for i in range(3):\n",
    "                print(p[i * 3:i * 3 + 3])\n",
    "    else:\n",
    "        print('No solution found')"
   ]
  },
  {
   "cell_type": "code",
   "execution_count": null,
   "id": "335b2cfe-81b3-43f4-ae10-30039b4b3e76",
   "metadata": {},
   "outputs": [],
   "source": []
  }
 ],
 "metadata": {
  "kernelspec": {
   "display_name": "Python 3 (ipykernel)",
   "language": "python",
   "name": "python3"
  },
  "language_info": {
   "codemirror_mode": {
    "name": "ipython",
    "version": 3
   },
   "file_extension": ".py",
   "mimetype": "text/x-python",
   "name": "python",
   "nbconvert_exporter": "python",
   "pygments_lexer": "ipython3",
   "version": "3.9.13"
  }
 },
 "nbformat": 4,
 "nbformat_minor": 5
}
