{
 "cells": [
  {
   "cell_type": "code",
   "execution_count": 1,
   "id": "e276e925-eda6-4050-8f2d-bb957203bf2f",
   "metadata": {},
   "outputs": [
    {
     "name": "stdout",
     "output_type": "stream",
     "text": [
      "(3, 3, 'left', 0, 0)\n",
      "(2, 2, 'right', 1, 1)\n",
      "(0, 2, 'left', 3, 1)\n",
      "(0, 0, 'right', 3, 3)\n"
     ]
    }
   ],
   "source": [
    "from queue import PriorityQueue\n",
    "\n",
    "# Function to check if a state is valid\n",
    "def is_valid(state):\n",
    "    m_left, c_left, b_pos, m_right, c_right = state\n",
    "    if m_left < 0 or c_left < 0 or m_right < 0 or c_right < 0:\n",
    "        return False\n",
    "    if m_left > 3 or c_left > 3 or m_right > 3 or c_right > 3:\n",
    "        return False\n",
    "    if (c_left > m_left > 0) or (c_right > m_right > 0):\n",
    "        return False\n",
    "    return True\n",
    "\n",
    "# Function to generate the next valid states from the current state\n",
    "def next_states(state):\n",
    "    m_left, c_left, b_pos, m_right, c_right = state\n",
    "    if b_pos == 'left':\n",
    "        moves = [(2, 0), (0, 2), (1, 1), (1, 0), (0, 1)]\n",
    "        next_states = [(m_left-m, c_left-c, 'right', m_right+m, c_right+c) for m, c in moves]\n",
    "    else:\n",
    "        moves = [(-2, 0), (0, -2), (-1, -1), (-1, 0), (0, -1)]\n",
    "        next_states = [(m_left+m, c_left+c, 'left', m_right-m, c_right-c) for m, c in moves]\n",
    "    return [state for state in next_states if is_valid(state)]\n",
    "\n",
    "# Uniform Cost Search algorithm\n",
    "def ucs(start_state):\n",
    "    frontier = PriorityQueue()  # Priority queue to explore states with lowest cost first\n",
    "    frontier.put((0, [start_state]))  # Insert the initial state with cost 0\n",
    "    explored = set() \n",
    "    while not frontier.empty():\n",
    "        cost, path = frontier.get()  # Get the state with lowest cost from the priority queue\n",
    "        current_state = path[-1] \n",
    "        if current_state == (0, 0, 'right', 3, 3):\n",
    "            return path \n",
    "        if current_state not in explored:\n",
    "            explored.add(current_state)\n",
    "            for next_state in next_states(current_state):\n",
    "                new_path = path + [next_state]\n",
    "                new_cost = cost + 1  # Uniform cost for each move\n",
    "                frontier.put((new_cost, new_path))  # Insert the new state with updated cost into the priority queue \n",
    "    return None\n",
    "\n",
    "# Testing the algorithm with the initial state (3, 3, 'left', 0, 0)\n",
    "start_state = (3, 3, 'left', 0, 0)\n",
    "path = ucs(start_state)\n",
    "\n",
    "# Printing the path from the initial state to the goal state\n",
    "if path:\n",
    "    for state in path:\n",
    "        print(state)\n",
    "else:\n",
    "    print(\"No solution found.\")"
   ]
  },
  {
   "cell_type": "code",
   "execution_count": null,
   "id": "cd5b76df-fa0d-4197-af7d-59e7f1144748",
   "metadata": {},
   "outputs": [],
   "source": []
  }
 ],
 "metadata": {
  "kernelspec": {
   "display_name": "Python 3 (ipykernel)",
   "language": "python",
   "name": "python3"
  },
  "language_info": {
   "codemirror_mode": {
    "name": "ipython",
    "version": 3
   },
   "file_extension": ".py",
   "mimetype": "text/x-python",
   "name": "python",
   "nbconvert_exporter": "python",
   "pygments_lexer": "ipython3",
   "version": "3.9.13"
  }
 },
 "nbformat": 4,
 "nbformat_minor": 5
}
