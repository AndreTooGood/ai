{
 "cells": [
  {
   "cell_type": "code",
   "execution_count": 1,
   "id": "7ba0d020-9ec4-4bdd-bd17-c22d1078a614",
   "metadata": {},
   "outputs": [
    {
     "name": "stdout",
     "output_type": "stream",
     "text": [
      "(3, 3, 'left', 0, 0)\n",
      "(3, 1, 'right', 0, 2)\n",
      "(1, 1, 'left', 2, 2)\n",
      "(0, 0, 'right', 3, 3)\n"
     ]
    }
   ],
   "source": [
    "from collections import deque\n",
    "\n",
    "# Function to check if a state is valid\n",
    "def is_valid(state):\n",
    "    m_left, c_left, b_pos, m_right, c_right = state\n",
    "    if m_left < 0 or c_left < 0 or m_right < 0 or c_right < 0:\n",
    "        return False\n",
    "    if m_left > 3 or c_left > 3 or m_right > 3 or c_right > 3:\n",
    "        return False\n",
    "    if (c_left > m_left > 0) or (c_right > m_right > 0):\n",
    "        return False\n",
    "    return True\n",
    "\n",
    "# Function to generate the next valid states from the current state\n",
    "def next_states(state):\n",
    "    m_left, c_left, b_pos, m_right, c_right = state\n",
    "    if b_pos == 'left':\n",
    "        moves = [(2, 0), (0, 2), (1, 1), (1, 0), (0, 1)]\n",
    "        next_states = [(m_left - m, c_left - c, 'right', m_right + m, c_right + c) for m, c in moves]\n",
    "    else:\n",
    "        moves = [(-2, 0), (0, -2), (-1, -1), (-1, 0), (0, -1)]\n",
    "        next_states = [(m_left + m, c_left + c, 'left', m_right - m, c_right - c) for m, c in moves]\n",
    "    return [state for state in next_states if is_valid(state)]\n",
    "\n",
    "# Breadth-First Search algorithm\n",
    "def bfs(start_state):\n",
    "    frontier = deque()\n",
    "    frontier.append([start_state])\n",
    "    explored = set() \n",
    "    while frontier:\n",
    "        path = frontier.popleft()\n",
    "        current_state = path[-1]\n",
    "        if current_state == (0, 0, 'right', 3, 3):\n",
    "            return path \n",
    "        for next_state in next_states(current_state):\n",
    "            if next_state not in explored:\n",
    "                new_path = path + [next_state]\n",
    "                frontier.append(new_path)\n",
    "                explored.add(next_state) \n",
    "    return None\n",
    "\n",
    "# Testing the algorithm with the initial state (3, 3, 'left', 0, 0)\n",
    "start_state = (3, 3, 'left', 0, 0)\n",
    "path = bfs(start_state)\n",
    "\n",
    "# Printing the path from the initial state to the goal state\n",
    "if path:\n",
    "    for state in path:\n",
    "        print(state)\n",
    "else:\n",
    "    print(\"No solution found.\")"
   ]
  },
  {
   "cell_type": "code",
   "execution_count": null,
   "id": "949ec78b-b768-4d96-9bd1-e1fb05895824",
   "metadata": {},
   "outputs": [],
   "source": []
  }
 ],
 "metadata": {
  "kernelspec": {
   "display_name": "Python 3 (ipykernel)",
   "language": "python",
   "name": "python3"
  },
  "language_info": {
   "codemirror_mode": {
    "name": "ipython",
    "version": 3
   },
   "file_extension": ".py",
   "mimetype": "text/x-python",
   "name": "python",
   "nbconvert_exporter": "python",
   "pygments_lexer": "ipython3",
   "version": "3.9.13"
  }
 },
 "nbformat": 4,
 "nbformat_minor": 5
}
